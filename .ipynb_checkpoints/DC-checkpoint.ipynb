{
 "cells": [
  {
   "cell_type": "markdown",
   "id": "8f15987d-1ba4-449f-94e2-57da8ab2751d",
   "metadata": {},
   "source": [
    " # **Data Linkage without having explicit primary key**"
   ]
  },
  {
   "cell_type": "markdown",
   "id": "4a25cee3-b1f7-4ea9-9765-ad93f30c1c1b",
   "metadata": {},
   "source": [
    "# 1. Data collection"
   ]
  },
  {
   "cell_type": "code",
   "execution_count": 1,
   "id": "252c618f-6e94-4cd3-a0a6-6e121f3997fa",
   "metadata": {},
   "outputs": [],
   "source": [
    "import pandas as pd"
   ]
  },
  {
   "cell_type": "code",
   "execution_count": 95,
   "id": "dddbed4c-b50d-4fc0-b927-a8f5644bfd94",
   "metadata": {},
   "outputs": [],
   "source": [
    "df1=pd.read_csv(r\"C:\\Users\\70741573\\AMIT_015\\Conference paper\\Digitalized Chemistry\\Data\\Prices and Availability .csv\", encoding='latin-1')\n",
    "df2=pd.read_csv(r\"C:\\Users\\70741573\\AMIT_015\\Conference paper\\Digitalized Chemistry\\Data\\Tech Origin-Destination.csv\",  encoding='latin-1')\n",
    "df3=pd.read_csv(r\"C:\\Users\\70741573\\AMIT_015\\Conference paper\\Digitalized Chemistry\\Data\\Emissions.csv\",  encoding='latin-1')\n",
    "df4=pd.read_csv(r\"C:\\Users\\70741573\\AMIT_015\\Conference paper\\Digitalized Chemistry\\Data\\chemical conversation ratio.csv\",  encoding='latin-1')\n",
    "df5=pd.read_csv(r\"C:\\Users\\70741573\\AMIT_015\\Conference paper\\Digitalized Chemistry\\Data\\all chemical.csv\", encoding='latin-1')"
   ]
  },
  {
   "cell_type": "code",
   "execution_count": 96,
   "id": "64993c36-0101-484a-a889-0607720bf8e8",
   "metadata": {
    "scrolled": true
   },
   "outputs": [
    {
     "name": "stderr",
     "output_type": "stream",
     "text": [
      "C:\\Users\\70741573\\AppData\\Local\\Temp\\ipykernel_5708\\2598064797.py:1: FutureWarning: Downcasting object dtype arrays on .fillna, .ffill, .bfill is deprecated and will change in a future version. Call result.infer_objects(copy=False) instead. To opt-in to the future behavior, set `pd.set_option('future.no_silent_downcasting', True)`\n",
      "  df1 = df1.dropna(axis=0, how='all').dropna(axis=1, how='all').fillna(0)\n",
      "C:\\Users\\70741573\\AppData\\Local\\Temp\\ipykernel_5708\\2598064797.py:3: FutureWarning: Downcasting object dtype arrays on .fillna, .ffill, .bfill is deprecated and will change in a future version. Call result.infer_objects(copy=False) instead. To opt-in to the future behavior, set `pd.set_option('future.no_silent_downcasting', True)`\n",
      "  df3 = df3.dropna(axis=0, how='all').dropna(axis=1, how='all').fillna(0)\n"
     ]
    }
   ],
   "source": [
    "df1 = df1.dropna(axis=0, how='all').dropna(axis=1, how='all').fillna(0)\n",
    "df2 = df2.dropna(axis=0, how='all').dropna(axis=1, how='all').fillna(0)\n",
    "df3 = df3.dropna(axis=0, how='all').dropna(axis=1, how='all').fillna(0)\n",
    "df4 = df4.dropna(axis=0, how='all').dropna(axis=1, how='all').fillna(0)\n",
    "df5 = df5.dropna(axis=0, how='all').dropna(axis=1, how='all').fillna(0)"
   ]
  },
  {
   "cell_type": "code",
   "execution_count": null,
   "id": "22c327f9-e9c8-4d10-97b4-33c9ba781aad",
   "metadata": {},
   "outputs": [],
   "source": [
    "import pandas as pd\n",
    "\n",
    "# Example dataframes (replace with your actual data)\n",
    "\n",
    "\n",
    "# Concatenate all dataframes into one\n",
    "concatenated = pd.concat([df1, df2, df3, df4, df5], axis=1)\n",
    "\n",
    "# Find duplicate column names across all dataframes\n",
    "duplicate_columns = concatenated.columns[concatenated.columns.duplicated()]\n",
    "\n",
    "# List to keep track of columns to drop\n",
    "columns_to_drop = []\n",
    "\n",
    "# Iterate over duplicate columns and keep the first occurrence\n",
    "for col in duplicate_columns:\n",
    "    first_occurrence_index = concatenated.columns.get_loc(col)\n",
    "    for i in range(len(concatenated.columns)):\n",
    "        if (concatenated.columns[i] == col) and (i != first_occurrence_index):\n",
    "            columns_to_drop.append(col)\n",
    "\n",
    "# Drop duplicate columns from each dataframe\n",
    "for df in [df1, df2, df3, df4, df5]:\n",
    "    df.drop(columns=columns_to_drop, inplace=True, errors='ignore')\n",
    "\n",
    "# Print or use the modified dataframes\n",
    "print(\"df1 after keeping original and dropping duplicates:\\n\", df1)\n",
    "print(\"df2 after keeping original and dropping duplicates:\\n\", df2)\n",
    "print(\"df3 after keeping original and dropping duplicates:\\n\", df3)\n",
    "print(\"df4 after keeping original and dropping duplicates:\\n\", df4)\n",
    "print(\"df5 after keeping original and dropping duplicates:\\n\", df5)\n"
   ]
  }
 ],
 "metadata": {
  "kernelspec": {
   "display_name": "Python 3 (ipykernel)",
   "language": "python",
   "name": "python3"
  },
  "language_info": {
   "codemirror_mode": {
    "name": "ipython",
    "version": 3
   },
   "file_extension": ".py",
   "mimetype": "text/x-python",
   "name": "python",
   "nbconvert_exporter": "python",
   "pygments_lexer": "ipython3",
   "version": "3.12.1"
  }
 },
 "nbformat": 4,
 "nbformat_minor": 5
}
