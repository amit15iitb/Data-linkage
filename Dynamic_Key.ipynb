{
 "cells": [
  {
   "cell_type": "code",
   "execution_count": 1,
   "id": "91845ec6-f807-4bf4-a5e8-fb14467c172f",
   "metadata": {},
   "outputs": [
    {
     "name": "stdout",
     "output_type": "stream",
     "text": [
      "Tabular Data Name: Equipment data\tDynamic Key: pinepilne_equipment_data\n",
      "Tabular Data Name: Material data\tDynamic Key: pinepilne_material_data\n",
      "Tabular Data Name: Processing information\tDynamic Key: pinepilne_processing_information\n",
      "Tabular Data Name: Evaluation data\tDynamic Key: pinepilne_evaluation_data\n",
      "Tabular Data Name: Simulation data\tDynamic Key: pinepilne_simulation_data\n",
      "Tabular Data Name: Process sensing data\tDynamic Key: pinepilne_process_sensing_data\n"
     ]
    }
   ],
   "source": [
    "# Define the manufacturing process\n",
    "manufacturing_process = \"pinepilne\"\n",
    "\n",
    "# Define the tabular data names\n",
    "tabular_data_names = [\"Equipment data\", \"Material data\", \"Processing information\", \n",
    "                     \"Evaluation data\", \"Simulation data\", \"Process sensing data\"]\n",
    "\n",
    "# Define a function to generate dynamic keys\n",
    "def generate_dynamic_keys(process, data_names):\n",
    "    dynamic_keys = {}\n",
    "    for name in data_names:\n",
    "        dynamic_key = f\"{process}_{name.replace(' ', '_').lower()}\"\n",
    "        dynamic_keys[name] = dynamic_key\n",
    "    return dynamic_keys\n",
    "\n",
    "# Generate dynamic keys for the manufacturing process \"pinepilne\"\n",
    "dynamic_keys = generate_dynamic_keys(manufacturing_process, tabular_data_names)\n",
    "\n",
    "# Print the dynamic keys\n",
    "for name, key in dynamic_keys.items():\n",
    "    print(f\"Tabular Data Name: {name}\\tDynamic Key: {key}\")\n",
    "\n",
    "# Example usage\n",
    "# Let's say you have a dictionary with data for each tabular data type\n",
    "# For example, suppose you have equipment data stored in a dictionary:\n",
    "equipment_data = {\n",
    "    dynamic_keys[\"Equipment data\"]: {...}  # Insert actual equipment data here\n",
    "}"
   ]
  },
  {
   "cell_type": "code",
   "execution_count": null,
   "id": "3b1061a5-48c9-491f-b975-6c9c3c5a1550",
   "metadata": {},
   "outputs": [],
   "source": []
  }
 ],
 "metadata": {
  "kernelspec": {
   "display_name": "Python 3 (ipykernel)",
   "language": "python",
   "name": "python3"
  },
  "language_info": {
   "codemirror_mode": {
    "name": "ipython",
    "version": 3
   },
   "file_extension": ".py",
   "mimetype": "text/x-python",
   "name": "python",
   "nbconvert_exporter": "python",
   "pygments_lexer": "ipython3",
   "version": "3.9.12"
  }
 },
 "nbformat": 4,
 "nbformat_minor": 5
}
